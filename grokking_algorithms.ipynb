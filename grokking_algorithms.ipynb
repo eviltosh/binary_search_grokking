{
 "cells": [
  {
   "cell_type": "code",
   "execution_count": 3,
   "metadata": {},
   "outputs": [],
   "source": [
    "import random\n",
    "rng=random.Random()\n",
    "my_list=list(range(1000000))\n",
    "number=rng.randrange(1000001)\n"
   ]
  },
  {
   "cell_type": "code",
   "execution_count": 4,
   "metadata": {},
   "outputs": [
    {
     "name": "stdout",
     "output_type": "stream",
     "text": [
      "1\n",
      "499999\n",
      "2\n",
      "749999\n",
      "3\n",
      "874999\n",
      "4\n",
      "937499\n",
      "5\n",
      "906249\n",
      "6\n",
      "890624\n",
      "7\n",
      "898436\n",
      "8\n",
      "894530\n",
      "9\n",
      "896483\n",
      "10\n",
      "897459\n",
      "11\n",
      "897947\n",
      "12\n",
      "898191\n",
      "13\n",
      "898313\n",
      "14\n",
      "898252\n",
      "15\n",
      "898282\n",
      "16\n",
      "898297\n",
      "17\n",
      "898305\n",
      "18\n",
      "898301\n",
      "19\n",
      "898299\n",
      "20\n",
      "898300\n",
      "898300\n"
     ]
    }
   ],
   "source": [
    "def binary_search(list,item):\n",
    "    low=0\n",
    "    high=len(list)-1\n",
    "    count=0\n",
    "    while low<=high:\n",
    "        count+=1\n",
    "        print(count)\n",
    "        mid=(high+low)//2\n",
    "        guess=list[mid]\n",
    "        print(guess)\n",
    "        if guess == item:\n",
    "            return mid\n",
    "        if guess> item:\n",
    "            high=mid-1\n",
    "        else:\n",
    "            low=mid+1\n",
    "    return None\n",
    "\n",
    "print(binary_search(my_list,number))\n"
   ]
  },
  {
   "cell_type": "code",
   "execution_count": null,
   "metadata": {},
   "outputs": [],
   "source": []
  },
  {
   "cell_type": "code",
   "execution_count": null,
   "metadata": {},
   "outputs": [],
   "source": []
  }
 ],
 "metadata": {
  "kernelspec": {
   "display_name": "Python 3",
   "language": "python",
   "name": "python3"
  },
  "language_info": {
   "codemirror_mode": {
    "name": "ipython",
    "version": 3
   },
   "file_extension": ".py",
   "mimetype": "text/x-python",
   "name": "python",
   "nbconvert_exporter": "python",
   "pygments_lexer": "ipython3",
   "version": "3.7.3"
  }
 },
 "nbformat": 4,
 "nbformat_minor": 2
}
